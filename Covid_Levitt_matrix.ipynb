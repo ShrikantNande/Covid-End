{
 "cells": [
  {
   "cell_type": "markdown",
   "metadata": {},
   "source": [
    "## <center> When will the Covid-19 Pandemic End? </center>"
   ]
  },
  {
   "cell_type": "markdown",
   "metadata": {},
   "source": [
    "![title](https://www.statnews.com/wp-content/uploads/2020/09/TopImage-1600x900.jpeg)"
   ]
  },
  {
   "cell_type": "markdown",
   "metadata": {},
   "source": [
    "### <b> Let's go !!! </b>"
   ]
  },
  {
   "cell_type": "code",
   "execution_count": 1,
   "metadata": {},
   "outputs": [],
   "source": [
    "#Ignore worning\n",
    "import warnings\n",
    "warnings.filterwarnings('ignore')"
   ]
  },
  {
   "cell_type": "code",
   "execution_count": 2,
   "metadata": {},
   "outputs": [],
   "source": [
    "# Data Handling\n",
    "import numpy as np\n",
    "import pandas as pd\n",
    "from datetime import datetime,timedelta\n",
    "# Data Visulation Libraries\n",
    "from matplotlib import pyplot\n",
    "from pandas.plotting import lag_plot\n",
    "from matplotlib import pyplot as plt\n",
    "import seaborn as sns"
   ]
  },
  {
   "cell_type": "code",
   "execution_count": 3,
   "metadata": {},
   "outputs": [],
   "source": [
    "# Load url's for dataset\n",
    "confirmed = 'https://raw.githubusercontent.com/CSSEGISandData/COVID-19/master/csse_covid_19_data/csse_covid_19_time_series/time_series_covid19_confirmed_global.csv'\n",
    "deaths = 'https://raw.githubusercontent.com/CSSEGISandData/COVID-19/master/csse_covid_19_data/csse_covid_19_time_series/time_series_covid19_deaths_global.csv'\n",
    "recovered = 'https://raw.githubusercontent.com/CSSEGISandData/COVID-19/master/csse_covid_19_data/csse_covid_19_time_series/time_series_covid19_recovered_global.csv'"
   ]
  },
  {
   "cell_type": "code",
   "execution_count": 4,
   "metadata": {},
   "outputs": [],
   "source": [
    "# Read Dataset\n",
    "confirmed_df = pd.read_csv(confirmed)  \n",
    "deaths_df = pd.read_csv(deaths)  \n",
    "recovered_df = pd.read_csv(recovered)  "
   ]
  },
  {
   "cell_type": "code",
   "execution_count": 5,
   "metadata": {},
   "outputs": [
    {
     "data": {
      "text/html": [
       "<div>\n",
       "<style scoped>\n",
       "    .dataframe tbody tr th:only-of-type {\n",
       "        vertical-align: middle;\n",
       "    }\n",
       "\n",
       "    .dataframe tbody tr th {\n",
       "        vertical-align: top;\n",
       "    }\n",
       "\n",
       "    .dataframe thead th {\n",
       "        text-align: right;\n",
       "    }\n",
       "</style>\n",
       "<table border=\"1\" class=\"dataframe\">\n",
       "  <thead>\n",
       "    <tr style=\"text-align: right;\">\n",
       "      <th></th>\n",
       "      <th>Province/State</th>\n",
       "      <th>Country/Region</th>\n",
       "      <th>Lat</th>\n",
       "      <th>Long</th>\n",
       "      <th>1/22/20</th>\n",
       "      <th>1/23/20</th>\n",
       "      <th>1/24/20</th>\n",
       "      <th>1/25/20</th>\n",
       "      <th>1/26/20</th>\n",
       "      <th>1/27/20</th>\n",
       "      <th>...</th>\n",
       "      <th>10/18/20</th>\n",
       "      <th>10/19/20</th>\n",
       "      <th>10/20/20</th>\n",
       "      <th>10/21/20</th>\n",
       "      <th>10/22/20</th>\n",
       "      <th>10/23/20</th>\n",
       "      <th>10/24/20</th>\n",
       "      <th>10/25/20</th>\n",
       "      <th>10/26/20</th>\n",
       "      <th>10/27/20</th>\n",
       "    </tr>\n",
       "  </thead>\n",
       "  <tbody>\n",
       "    <tr>\n",
       "      <th>0</th>\n",
       "      <td>NaN</td>\n",
       "      <td>Afghanistan</td>\n",
       "      <td>33.93911</td>\n",
       "      <td>67.709953</td>\n",
       "      <td>0</td>\n",
       "      <td>0</td>\n",
       "      <td>0</td>\n",
       "      <td>0</td>\n",
       "      <td>0</td>\n",
       "      <td>0</td>\n",
       "      <td>...</td>\n",
       "      <td>40200</td>\n",
       "      <td>40287</td>\n",
       "      <td>40357</td>\n",
       "      <td>40510</td>\n",
       "      <td>40626</td>\n",
       "      <td>40687</td>\n",
       "      <td>40768</td>\n",
       "      <td>40833</td>\n",
       "      <td>40937</td>\n",
       "      <td>41032</td>\n",
       "    </tr>\n",
       "    <tr>\n",
       "      <th>1</th>\n",
       "      <td>NaN</td>\n",
       "      <td>Albania</td>\n",
       "      <td>41.15330</td>\n",
       "      <td>20.168300</td>\n",
       "      <td>0</td>\n",
       "      <td>0</td>\n",
       "      <td>0</td>\n",
       "      <td>0</td>\n",
       "      <td>0</td>\n",
       "      <td>0</td>\n",
       "      <td>...</td>\n",
       "      <td>17055</td>\n",
       "      <td>17350</td>\n",
       "      <td>17651</td>\n",
       "      <td>17948</td>\n",
       "      <td>18250</td>\n",
       "      <td>18556</td>\n",
       "      <td>18858</td>\n",
       "      <td>19157</td>\n",
       "      <td>19445</td>\n",
       "      <td>19729</td>\n",
       "    </tr>\n",
       "  </tbody>\n",
       "</table>\n",
       "<p>2 rows × 284 columns</p>\n",
       "</div>"
      ],
      "text/plain": [
       "  Province/State Country/Region       Lat       Long  1/22/20  1/23/20  \\\n",
       "0            NaN    Afghanistan  33.93911  67.709953        0        0   \n",
       "1            NaN        Albania  41.15330  20.168300        0        0   \n",
       "\n",
       "   1/24/20  1/25/20  1/26/20  1/27/20  ...  10/18/20  10/19/20  10/20/20  \\\n",
       "0        0        0        0        0  ...     40200     40287     40357   \n",
       "1        0        0        0        0  ...     17055     17350     17651   \n",
       "\n",
       "   10/21/20  10/22/20  10/23/20  10/24/20  10/25/20  10/26/20  10/27/20  \n",
       "0     40510     40626     40687     40768     40833     40937     41032  \n",
       "1     17948     18250     18556     18858     19157     19445     19729  \n",
       "\n",
       "[2 rows x 284 columns]"
      ]
     },
     "execution_count": 5,
     "metadata": {},
     "output_type": "execute_result"
    }
   ],
   "source": [
    "#Let's Check dataset\n",
    "confirmed_df.head(2)"
   ]
  },
  {
   "cell_type": "code",
   "execution_count": 6,
   "metadata": {},
   "outputs": [
    {
     "data": {
      "text/html": [
       "<div>\n",
       "<style scoped>\n",
       "    .dataframe tbody tr th:only-of-type {\n",
       "        vertical-align: middle;\n",
       "    }\n",
       "\n",
       "    .dataframe tbody tr th {\n",
       "        vertical-align: top;\n",
       "    }\n",
       "\n",
       "    .dataframe thead th {\n",
       "        text-align: right;\n",
       "    }\n",
       "</style>\n",
       "<table border=\"1\" class=\"dataframe\">\n",
       "  <thead>\n",
       "    <tr style=\"text-align: right;\">\n",
       "      <th></th>\n",
       "      <th>Province/State</th>\n",
       "      <th>Country/Region</th>\n",
       "      <th>Lat</th>\n",
       "      <th>Long</th>\n",
       "      <th>1/22/20</th>\n",
       "      <th>1/23/20</th>\n",
       "      <th>1/24/20</th>\n",
       "      <th>1/25/20</th>\n",
       "      <th>1/26/20</th>\n",
       "      <th>1/27/20</th>\n",
       "      <th>...</th>\n",
       "      <th>10/18/20</th>\n",
       "      <th>10/19/20</th>\n",
       "      <th>10/20/20</th>\n",
       "      <th>10/21/20</th>\n",
       "      <th>10/22/20</th>\n",
       "      <th>10/23/20</th>\n",
       "      <th>10/24/20</th>\n",
       "      <th>10/25/20</th>\n",
       "      <th>10/26/20</th>\n",
       "      <th>10/27/20</th>\n",
       "    </tr>\n",
       "  </thead>\n",
       "  <tbody>\n",
       "    <tr>\n",
       "      <th>0</th>\n",
       "      <td>NaN</td>\n",
       "      <td>Afghanistan</td>\n",
       "      <td>33.93911</td>\n",
       "      <td>67.709953</td>\n",
       "      <td>0</td>\n",
       "      <td>0</td>\n",
       "      <td>0</td>\n",
       "      <td>0</td>\n",
       "      <td>0</td>\n",
       "      <td>0</td>\n",
       "      <td>...</td>\n",
       "      <td>1492</td>\n",
       "      <td>1497</td>\n",
       "      <td>1499</td>\n",
       "      <td>1501</td>\n",
       "      <td>1505</td>\n",
       "      <td>1507</td>\n",
       "      <td>1511</td>\n",
       "      <td>1514</td>\n",
       "      <td>1518</td>\n",
       "      <td>1523</td>\n",
       "    </tr>\n",
       "    <tr>\n",
       "      <th>1</th>\n",
       "      <td>NaN</td>\n",
       "      <td>Albania</td>\n",
       "      <td>41.15330</td>\n",
       "      <td>20.168300</td>\n",
       "      <td>0</td>\n",
       "      <td>0</td>\n",
       "      <td>0</td>\n",
       "      <td>0</td>\n",
       "      <td>0</td>\n",
       "      <td>0</td>\n",
       "      <td>...</td>\n",
       "      <td>451</td>\n",
       "      <td>454</td>\n",
       "      <td>458</td>\n",
       "      <td>462</td>\n",
       "      <td>465</td>\n",
       "      <td>469</td>\n",
       "      <td>473</td>\n",
       "      <td>477</td>\n",
       "      <td>480</td>\n",
       "      <td>487</td>\n",
       "    </tr>\n",
       "  </tbody>\n",
       "</table>\n",
       "<p>2 rows × 284 columns</p>\n",
       "</div>"
      ],
      "text/plain": [
       "  Province/State Country/Region       Lat       Long  1/22/20  1/23/20  \\\n",
       "0            NaN    Afghanistan  33.93911  67.709953        0        0   \n",
       "1            NaN        Albania  41.15330  20.168300        0        0   \n",
       "\n",
       "   1/24/20  1/25/20  1/26/20  1/27/20  ...  10/18/20  10/19/20  10/20/20  \\\n",
       "0        0        0        0        0  ...      1492      1497      1499   \n",
       "1        0        0        0        0  ...       451       454       458   \n",
       "\n",
       "   10/21/20  10/22/20  10/23/20  10/24/20  10/25/20  10/26/20  10/27/20  \n",
       "0      1501      1505      1507      1511      1514      1518      1523  \n",
       "1       462       465       469       473       477       480       487  \n",
       "\n",
       "[2 rows x 284 columns]"
      ]
     },
     "execution_count": 6,
     "metadata": {},
     "output_type": "execute_result"
    }
   ],
   "source": [
    "deaths_df.head(2)"
   ]
  },
  {
   "cell_type": "code",
   "execution_count": 7,
   "metadata": {},
   "outputs": [],
   "source": [
    "# Nooo... We dont want that\n",
    "\n",
    "confirmed_df.set_index('Country/Region', inplace=True)\n",
    "deaths_df.set_index('Country/Region', inplace=True)\n",
    "recovered_df.set_index('Country/Region', inplace=True)\n",
    "\n",
    "confirmed_df = confirmed_df.drop(['Province/State','Lat','Long' ], axis =1)\n",
    "deaths_df = deaths_df.drop(['Province/State','Lat','Long'],axis =1)\n",
    "recovered_df =  recovered_df.drop(['Province/State','Lat','Long'],axis =1)\n"
   ]
  },
  {
   "cell_type": "code",
   "execution_count": 8,
   "metadata": {},
   "outputs": [],
   "source": [
    "# transpose them\n",
    "confirmed = confirmed_df.T\n",
    "deaths = deaths_df.T\n",
    "recovered = recovered_df.T"
   ]
  },
  {
   "cell_type": "code",
   "execution_count": 9,
   "metadata": {},
   "outputs": [
    {
     "data": {
      "text/html": [
       "<div>\n",
       "<style scoped>\n",
       "    .dataframe tbody tr th:only-of-type {\n",
       "        vertical-align: middle;\n",
       "    }\n",
       "\n",
       "    .dataframe tbody tr th {\n",
       "        vertical-align: top;\n",
       "    }\n",
       "\n",
       "    .dataframe thead th {\n",
       "        text-align: right;\n",
       "    }\n",
       "</style>\n",
       "<table border=\"1\" class=\"dataframe\">\n",
       "  <thead>\n",
       "    <tr style=\"text-align: right;\">\n",
       "      <th>Country/Region</th>\n",
       "      <th>index</th>\n",
       "      <th>Afghanistan</th>\n",
       "      <th>Albania</th>\n",
       "      <th>Algeria</th>\n",
       "      <th>Andorra</th>\n",
       "      <th>Angola</th>\n",
       "      <th>Antigua and Barbuda</th>\n",
       "      <th>Argentina</th>\n",
       "      <th>Armenia</th>\n",
       "      <th>Australia</th>\n",
       "      <th>...</th>\n",
       "      <th>United Kingdom</th>\n",
       "      <th>Uruguay</th>\n",
       "      <th>Uzbekistan</th>\n",
       "      <th>Venezuela</th>\n",
       "      <th>Vietnam</th>\n",
       "      <th>West Bank and Gaza</th>\n",
       "      <th>Western Sahara</th>\n",
       "      <th>Yemen</th>\n",
       "      <th>Zambia</th>\n",
       "      <th>Zimbabwe</th>\n",
       "    </tr>\n",
       "  </thead>\n",
       "  <tbody>\n",
       "    <tr>\n",
       "      <th>0</th>\n",
       "      <td>1/22/20</td>\n",
       "      <td>0</td>\n",
       "      <td>0</td>\n",
       "      <td>0</td>\n",
       "      <td>0</td>\n",
       "      <td>0</td>\n",
       "      <td>0</td>\n",
       "      <td>0</td>\n",
       "      <td>0</td>\n",
       "      <td>0</td>\n",
       "      <td>...</td>\n",
       "      <td>0</td>\n",
       "      <td>0</td>\n",
       "      <td>0</td>\n",
       "      <td>0</td>\n",
       "      <td>0</td>\n",
       "      <td>0</td>\n",
       "      <td>0</td>\n",
       "      <td>0</td>\n",
       "      <td>0</td>\n",
       "      <td>0</td>\n",
       "    </tr>\n",
       "    <tr>\n",
       "      <th>1</th>\n",
       "      <td>1/23/20</td>\n",
       "      <td>0</td>\n",
       "      <td>0</td>\n",
       "      <td>0</td>\n",
       "      <td>0</td>\n",
       "      <td>0</td>\n",
       "      <td>0</td>\n",
       "      <td>0</td>\n",
       "      <td>0</td>\n",
       "      <td>0</td>\n",
       "      <td>...</td>\n",
       "      <td>0</td>\n",
       "      <td>0</td>\n",
       "      <td>0</td>\n",
       "      <td>0</td>\n",
       "      <td>0</td>\n",
       "      <td>0</td>\n",
       "      <td>0</td>\n",
       "      <td>0</td>\n",
       "      <td>0</td>\n",
       "      <td>0</td>\n",
       "    </tr>\n",
       "    <tr>\n",
       "      <th>2</th>\n",
       "      <td>1/24/20</td>\n",
       "      <td>0</td>\n",
       "      <td>0</td>\n",
       "      <td>0</td>\n",
       "      <td>0</td>\n",
       "      <td>0</td>\n",
       "      <td>0</td>\n",
       "      <td>0</td>\n",
       "      <td>0</td>\n",
       "      <td>0</td>\n",
       "      <td>...</td>\n",
       "      <td>0</td>\n",
       "      <td>0</td>\n",
       "      <td>0</td>\n",
       "      <td>0</td>\n",
       "      <td>0</td>\n",
       "      <td>0</td>\n",
       "      <td>0</td>\n",
       "      <td>0</td>\n",
       "      <td>0</td>\n",
       "      <td>0</td>\n",
       "    </tr>\n",
       "    <tr>\n",
       "      <th>3</th>\n",
       "      <td>1/25/20</td>\n",
       "      <td>0</td>\n",
       "      <td>0</td>\n",
       "      <td>0</td>\n",
       "      <td>0</td>\n",
       "      <td>0</td>\n",
       "      <td>0</td>\n",
       "      <td>0</td>\n",
       "      <td>0</td>\n",
       "      <td>0</td>\n",
       "      <td>...</td>\n",
       "      <td>0</td>\n",
       "      <td>0</td>\n",
       "      <td>0</td>\n",
       "      <td>0</td>\n",
       "      <td>0</td>\n",
       "      <td>0</td>\n",
       "      <td>0</td>\n",
       "      <td>0</td>\n",
       "      <td>0</td>\n",
       "      <td>0</td>\n",
       "    </tr>\n",
       "    <tr>\n",
       "      <th>4</th>\n",
       "      <td>1/26/20</td>\n",
       "      <td>0</td>\n",
       "      <td>0</td>\n",
       "      <td>0</td>\n",
       "      <td>0</td>\n",
       "      <td>0</td>\n",
       "      <td>0</td>\n",
       "      <td>0</td>\n",
       "      <td>0</td>\n",
       "      <td>0</td>\n",
       "      <td>...</td>\n",
       "      <td>0</td>\n",
       "      <td>0</td>\n",
       "      <td>0</td>\n",
       "      <td>0</td>\n",
       "      <td>0</td>\n",
       "      <td>0</td>\n",
       "      <td>0</td>\n",
       "      <td>0</td>\n",
       "      <td>0</td>\n",
       "      <td>0</td>\n",
       "    </tr>\n",
       "  </tbody>\n",
       "</table>\n",
       "<p>5 rows × 268 columns</p>\n",
       "</div>"
      ],
      "text/plain": [
       "Country/Region    index  Afghanistan  Albania  Algeria  Andorra  Angola  \\\n",
       "0               1/22/20            0        0        0        0       0   \n",
       "1               1/23/20            0        0        0        0       0   \n",
       "2               1/24/20            0        0        0        0       0   \n",
       "3               1/25/20            0        0        0        0       0   \n",
       "4               1/26/20            0        0        0        0       0   \n",
       "\n",
       "Country/Region  Antigua and Barbuda  Argentina  Armenia  Australia  ...  \\\n",
       "0                                 0          0        0          0  ...   \n",
       "1                                 0          0        0          0  ...   \n",
       "2                                 0          0        0          0  ...   \n",
       "3                                 0          0        0          0  ...   \n",
       "4                                 0          0        0          0  ...   \n",
       "\n",
       "Country/Region  United Kingdom  Uruguay  Uzbekistan  Venezuela  Vietnam  \\\n",
       "0                            0        0           0          0        0   \n",
       "1                            0        0           0          0        0   \n",
       "2                            0        0           0          0        0   \n",
       "3                            0        0           0          0        0   \n",
       "4                            0        0           0          0        0   \n",
       "\n",
       "Country/Region  West Bank and Gaza  Western Sahara  Yemen  Zambia  Zimbabwe  \n",
       "0                                0               0      0       0         0  \n",
       "1                                0               0      0       0         0  \n",
       "2                                0               0      0       0         0  \n",
       "3                                0               0      0       0         0  \n",
       "4                                0               0      0       0         0  \n",
       "\n",
       "[5 rows x 268 columns]"
      ]
     },
     "execution_count": 9,
     "metadata": {},
     "output_type": "execute_result"
    }
   ],
   "source": [
    "#Check for dataset\n",
    "deaths.reset_index(inplace = True) \n",
    "deaths.head()"
   ]
  },
  {
   "cell_type": "code",
   "execution_count": 10,
   "metadata": {},
   "outputs": [
    {
     "data": {
      "text/plain": [
       "Index(['index', 'Afghanistan', 'Albania', 'Algeria', 'Andorra', 'Angola',\n",
       "       'Antigua and Barbuda', 'Argentina', 'Armenia', 'Australia',\n",
       "       ...\n",
       "       'United Kingdom', 'Uruguay', 'Uzbekistan', 'Venezuela', 'Vietnam',\n",
       "       'West Bank and Gaza', 'Western Sahara', 'Yemen', 'Zambia', 'Zimbabwe'],\n",
       "      dtype='object', name='Country/Region', length=268)"
      ]
     },
     "execution_count": 10,
     "metadata": {},
     "output_type": "execute_result"
    }
   ],
   "source": [
    "deaths.columns"
   ]
  },
  {
   "cell_type": "code",
   "execution_count": 11,
   "metadata": {},
   "outputs": [],
   "source": [
    "deaths.columns.name = None"
   ]
  },
  {
   "cell_type": "code",
   "execution_count": 12,
   "metadata": {
    "scrolled": true
   },
   "outputs": [
    {
     "data": {
      "text/html": [
       "<div>\n",
       "<style scoped>\n",
       "    .dataframe tbody tr th:only-of-type {\n",
       "        vertical-align: middle;\n",
       "    }\n",
       "\n",
       "    .dataframe tbody tr th {\n",
       "        vertical-align: top;\n",
       "    }\n",
       "\n",
       "    .dataframe thead th {\n",
       "        text-align: right;\n",
       "    }\n",
       "</style>\n",
       "<table border=\"1\" class=\"dataframe\">\n",
       "  <thead>\n",
       "    <tr style=\"text-align: right;\">\n",
       "      <th></th>\n",
       "      <th>index</th>\n",
       "      <th>Afghanistan</th>\n",
       "      <th>Albania</th>\n",
       "      <th>Algeria</th>\n",
       "      <th>Andorra</th>\n",
       "      <th>Angola</th>\n",
       "      <th>Antigua and Barbuda</th>\n",
       "      <th>Argentina</th>\n",
       "      <th>Armenia</th>\n",
       "      <th>Australia</th>\n",
       "      <th>...</th>\n",
       "      <th>United Kingdom</th>\n",
       "      <th>Uruguay</th>\n",
       "      <th>Uzbekistan</th>\n",
       "      <th>Venezuela</th>\n",
       "      <th>Vietnam</th>\n",
       "      <th>West Bank and Gaza</th>\n",
       "      <th>Western Sahara</th>\n",
       "      <th>Yemen</th>\n",
       "      <th>Zambia</th>\n",
       "      <th>Zimbabwe</th>\n",
       "    </tr>\n",
       "  </thead>\n",
       "  <tbody>\n",
       "    <tr>\n",
       "      <th>0</th>\n",
       "      <td>1/22/20</td>\n",
       "      <td>0</td>\n",
       "      <td>0</td>\n",
       "      <td>0</td>\n",
       "      <td>0</td>\n",
       "      <td>0</td>\n",
       "      <td>0</td>\n",
       "      <td>0</td>\n",
       "      <td>0</td>\n",
       "      <td>0</td>\n",
       "      <td>...</td>\n",
       "      <td>0</td>\n",
       "      <td>0</td>\n",
       "      <td>0</td>\n",
       "      <td>0</td>\n",
       "      <td>0</td>\n",
       "      <td>0</td>\n",
       "      <td>0</td>\n",
       "      <td>0</td>\n",
       "      <td>0</td>\n",
       "      <td>0</td>\n",
       "    </tr>\n",
       "    <tr>\n",
       "      <th>1</th>\n",
       "      <td>1/23/20</td>\n",
       "      <td>0</td>\n",
       "      <td>0</td>\n",
       "      <td>0</td>\n",
       "      <td>0</td>\n",
       "      <td>0</td>\n",
       "      <td>0</td>\n",
       "      <td>0</td>\n",
       "      <td>0</td>\n",
       "      <td>0</td>\n",
       "      <td>...</td>\n",
       "      <td>0</td>\n",
       "      <td>0</td>\n",
       "      <td>0</td>\n",
       "      <td>0</td>\n",
       "      <td>0</td>\n",
       "      <td>0</td>\n",
       "      <td>0</td>\n",
       "      <td>0</td>\n",
       "      <td>0</td>\n",
       "      <td>0</td>\n",
       "    </tr>\n",
       "  </tbody>\n",
       "</table>\n",
       "<p>2 rows × 268 columns</p>\n",
       "</div>"
      ],
      "text/plain": [
       "     index  Afghanistan  Albania  Algeria  Andorra  Angola  \\\n",
       "0  1/22/20            0        0        0        0       0   \n",
       "1  1/23/20            0        0        0        0       0   \n",
       "\n",
       "   Antigua and Barbuda  Argentina  Armenia  Australia  ...  United Kingdom  \\\n",
       "0                    0          0        0          0  ...               0   \n",
       "1                    0          0        0          0  ...               0   \n",
       "\n",
       "   Uruguay  Uzbekistan  Venezuela  Vietnam  West Bank and Gaza  \\\n",
       "0        0           0          0        0                   0   \n",
       "1        0           0          0        0                   0   \n",
       "\n",
       "   Western Sahara  Yemen  Zambia  Zimbabwe  \n",
       "0               0      0       0         0  \n",
       "1               0      0       0         0  \n",
       "\n",
       "[2 rows x 268 columns]"
      ]
     },
     "execution_count": 12,
     "metadata": {},
     "output_type": "execute_result"
    }
   ],
   "source": [
    "deaths.head(2)"
   ]
  },
  {
   "cell_type": "code",
   "execution_count": 13,
   "metadata": {},
   "outputs": [],
   "source": [
    "deaths.rename(columns={'index':'Date'},inplace = True)"
   ]
  },
  {
   "cell_type": "code",
   "execution_count": 14,
   "metadata": {},
   "outputs": [],
   "source": [
    "deaths['Date'] = pd.to_datetime(deaths['Date'])"
   ]
  },
  {
   "cell_type": "code",
   "execution_count": 15,
   "metadata": {},
   "outputs": [
    {
     "data": {
      "text/html": [
       "<div>\n",
       "<style scoped>\n",
       "    .dataframe tbody tr th:only-of-type {\n",
       "        vertical-align: middle;\n",
       "    }\n",
       "\n",
       "    .dataframe tbody tr th {\n",
       "        vertical-align: top;\n",
       "    }\n",
       "\n",
       "    .dataframe thead th {\n",
       "        text-align: right;\n",
       "    }\n",
       "</style>\n",
       "<table border=\"1\" class=\"dataframe\">\n",
       "  <thead>\n",
       "    <tr style=\"text-align: right;\">\n",
       "      <th></th>\n",
       "      <th>Date</th>\n",
       "      <th>Afghanistan</th>\n",
       "      <th>Albania</th>\n",
       "      <th>Algeria</th>\n",
       "      <th>Andorra</th>\n",
       "      <th>Angola</th>\n",
       "      <th>Antigua and Barbuda</th>\n",
       "      <th>Argentina</th>\n",
       "      <th>Armenia</th>\n",
       "      <th>Australia</th>\n",
       "      <th>...</th>\n",
       "      <th>United Kingdom</th>\n",
       "      <th>Uruguay</th>\n",
       "      <th>Uzbekistan</th>\n",
       "      <th>Venezuela</th>\n",
       "      <th>Vietnam</th>\n",
       "      <th>West Bank and Gaza</th>\n",
       "      <th>Western Sahara</th>\n",
       "      <th>Yemen</th>\n",
       "      <th>Zambia</th>\n",
       "      <th>Zimbabwe</th>\n",
       "    </tr>\n",
       "  </thead>\n",
       "  <tbody>\n",
       "    <tr>\n",
       "      <th>0</th>\n",
       "      <td>2020-01-22</td>\n",
       "      <td>0</td>\n",
       "      <td>0</td>\n",
       "      <td>0</td>\n",
       "      <td>0</td>\n",
       "      <td>0</td>\n",
       "      <td>0</td>\n",
       "      <td>0</td>\n",
       "      <td>0</td>\n",
       "      <td>0</td>\n",
       "      <td>...</td>\n",
       "      <td>0</td>\n",
       "      <td>0</td>\n",
       "      <td>0</td>\n",
       "      <td>0</td>\n",
       "      <td>0</td>\n",
       "      <td>0</td>\n",
       "      <td>0</td>\n",
       "      <td>0</td>\n",
       "      <td>0</td>\n",
       "      <td>0</td>\n",
       "    </tr>\n",
       "    <tr>\n",
       "      <th>1</th>\n",
       "      <td>2020-01-23</td>\n",
       "      <td>0</td>\n",
       "      <td>0</td>\n",
       "      <td>0</td>\n",
       "      <td>0</td>\n",
       "      <td>0</td>\n",
       "      <td>0</td>\n",
       "      <td>0</td>\n",
       "      <td>0</td>\n",
       "      <td>0</td>\n",
       "      <td>...</td>\n",
       "      <td>0</td>\n",
       "      <td>0</td>\n",
       "      <td>0</td>\n",
       "      <td>0</td>\n",
       "      <td>0</td>\n",
       "      <td>0</td>\n",
       "      <td>0</td>\n",
       "      <td>0</td>\n",
       "      <td>0</td>\n",
       "      <td>0</td>\n",
       "    </tr>\n",
       "  </tbody>\n",
       "</table>\n",
       "<p>2 rows × 268 columns</p>\n",
       "</div>"
      ],
      "text/plain": [
       "        Date  Afghanistan  Albania  Algeria  Andorra  Angola  \\\n",
       "0 2020-01-22            0        0        0        0       0   \n",
       "1 2020-01-23            0        0        0        0       0   \n",
       "\n",
       "   Antigua and Barbuda  Argentina  Armenia  Australia  ...  United Kingdom  \\\n",
       "0                    0          0        0          0  ...               0   \n",
       "1                    0          0        0          0  ...               0   \n",
       "\n",
       "   Uruguay  Uzbekistan  Venezuela  Vietnam  West Bank and Gaza  \\\n",
       "0        0           0          0        0                   0   \n",
       "1        0           0          0        0                   0   \n",
       "\n",
       "   Western Sahara  Yemen  Zambia  Zimbabwe  \n",
       "0               0      0       0         0  \n",
       "1               0      0       0         0  \n",
       "\n",
       "[2 rows x 268 columns]"
      ]
     },
     "execution_count": 15,
     "metadata": {},
     "output_type": "execute_result"
    }
   ],
   "source": [
    "deaths.head(2)"
   ]
  },
  {
   "cell_type": "markdown",
   "metadata": {},
   "source": [
    "## CONCENTRATE ON INDIA\n",
    "### \"\"\" Sare Jahan Se Achha Hindustan Hamara \"\"\""
   ]
  },
  {
   "cell_type": "markdown",
   "metadata": {},
   "source": [
    "<img src=\"https://www.tourtravelogy.com/wp-content/uploads/2016/07/india-road-to-freedom.jpg\" alt=\"India\" style=\"width:600px;\"/>"
   ]
  },
  {
   "cell_type": "code",
   "execution_count": 16,
   "metadata": {},
   "outputs": [],
   "source": [
    "from itertools import accumulate\n",
    "#to get cummulative values\n",
    "increment_result =  [*accumulate(deaths.India)]"
   ]
  },
  {
   "cell_type": "code",
   "execution_count": 17,
   "metadata": {},
   "outputs": [
    {
     "data": {
      "text/plain": [
       "[0, 0, 0, 0, 0, 0, 0, 0, 0, 1, 2, 4, 6, 8, 10, 13, 16, 20, 25, 29]"
      ]
     },
     "execution_count": 17,
     "metadata": {},
     "output_type": "execute_result"
    }
   ],
   "source": [
    "increment_result[40:60]"
   ]
  },
  {
   "cell_type": "code",
   "execution_count": 18,
   "metadata": {},
   "outputs": [],
   "source": [
    "#create dataframe from list\n",
    "df = pd.DataFrame(deaths['Date'])"
   ]
  },
  {
   "cell_type": "code",
   "execution_count": 19,
   "metadata": {},
   "outputs": [],
   "source": [
    "#Add target(conversion factor into dataframe)\n",
    "df[\"Op\"] = increment_result"
   ]
  },
  {
   "cell_type": "code",
   "execution_count": 20,
   "metadata": {},
   "outputs": [
    {
     "data": {
      "text/html": [
       "<div>\n",
       "<style scoped>\n",
       "    .dataframe tbody tr th:only-of-type {\n",
       "        vertical-align: middle;\n",
       "    }\n",
       "\n",
       "    .dataframe tbody tr th {\n",
       "        vertical-align: top;\n",
       "    }\n",
       "\n",
       "    .dataframe thead th {\n",
       "        text-align: right;\n",
       "    }\n",
       "</style>\n",
       "<table border=\"1\" class=\"dataframe\">\n",
       "  <thead>\n",
       "    <tr style=\"text-align: right;\">\n",
       "      <th></th>\n",
       "      <th>Date</th>\n",
       "      <th>Op</th>\n",
       "    </tr>\n",
       "  </thead>\n",
       "  <tbody>\n",
       "    <tr>\n",
       "      <th>0</th>\n",
       "      <td>2020-01-22</td>\n",
       "      <td>0</td>\n",
       "    </tr>\n",
       "    <tr>\n",
       "      <th>1</th>\n",
       "      <td>2020-01-23</td>\n",
       "      <td>0</td>\n",
       "    </tr>\n",
       "  </tbody>\n",
       "</table>\n",
       "</div>"
      ],
      "text/plain": [
       "        Date  Op\n",
       "0 2020-01-22   0\n",
       "1 2020-01-23   0"
      ]
     },
     "execution_count": 20,
     "metadata": {},
     "output_type": "execute_result"
    }
   ],
   "source": [
    "df.head(2)"
   ]
  },
  {
   "cell_type": "code",
   "execution_count": 21,
   "metadata": {},
   "outputs": [
    {
     "data": {
      "text/html": [
       "<div>\n",
       "<style scoped>\n",
       "    .dataframe tbody tr th:only-of-type {\n",
       "        vertical-align: middle;\n",
       "    }\n",
       "\n",
       "    .dataframe tbody tr th {\n",
       "        vertical-align: top;\n",
       "    }\n",
       "\n",
       "    .dataframe thead th {\n",
       "        text-align: right;\n",
       "    }\n",
       "</style>\n",
       "<table border=\"1\" class=\"dataframe\">\n",
       "  <thead>\n",
       "    <tr style=\"text-align: right;\">\n",
       "      <th></th>\n",
       "      <th>Date</th>\n",
       "      <th>Op</th>\n",
       "    </tr>\n",
       "  </thead>\n",
       "  <tbody>\n",
       "    <tr>\n",
       "      <th>0</th>\n",
       "      <td>2020-01-22</td>\n",
       "      <td>0</td>\n",
       "    </tr>\n",
       "    <tr>\n",
       "      <th>1</th>\n",
       "      <td>2020-01-23</td>\n",
       "      <td>0</td>\n",
       "    </tr>\n",
       "  </tbody>\n",
       "</table>\n",
       "</div>"
      ],
      "text/plain": [
       "        Date  Op\n",
       "0 2020-01-22   0\n",
       "1 2020-01-23   0"
      ]
     },
     "execution_count": 21,
     "metadata": {},
     "output_type": "execute_result"
    }
   ],
   "source": [
    "#dataframe is cleaned\n",
    "df.head(2)"
   ]
  },
  {
   "cell_type": "code",
   "execution_count": 22,
   "metadata": {},
   "outputs": [],
   "source": [
    "#Conversion method used\n",
    "levitts_conversion = []\n",
    "\n",
    "for i in range(len(df)):\n",
    "    if i == 0:\n",
    "        #print(i)\n",
    "        current_epi = 0\n",
    "    else:\n",
    "        current_epi = (df.Op[i] / df.Op[i-1])\n",
    "\n",
    "    levitts_conversion.append(current_epi)\n"
   ]
  },
  {
   "cell_type": "code",
   "execution_count": 23,
   "metadata": {},
   "outputs": [
    {
     "data": {
      "text/plain": [
       "280"
      ]
     },
     "execution_count": 23,
     "metadata": {},
     "output_type": "execute_result"
    }
   ],
   "source": [
    "len(levitts_conversion)"
   ]
  },
  {
   "cell_type": "code",
   "execution_count": 24,
   "metadata": {},
   "outputs": [],
   "source": [
    "#Add target(conversion factor into dataframe)\n",
    "df[\"l_m\"] = levitts_conversion"
   ]
  },
  {
   "cell_type": "code",
   "execution_count": 25,
   "metadata": {},
   "outputs": [
    {
     "name": "stdout",
     "output_type": "stream",
     "text": [
      "<class 'pandas.core.frame.DataFrame'>\n",
      "RangeIndex: 280 entries, 0 to 279\n",
      "Data columns (total 3 columns):\n",
      "Date    280 non-null datetime64[ns]\n",
      "Op      280 non-null int64\n",
      "l_m     232 non-null float64\n",
      "dtypes: datetime64[ns](1), float64(1), int64(1)\n",
      "memory usage: 6.7 KB\n"
     ]
    }
   ],
   "source": [
    "df.info()"
   ]
  },
  {
   "cell_type": "code",
   "execution_count": 26,
   "metadata": {},
   "outputs": [
    {
     "data": {
      "text/html": [
       "<div>\n",
       "<style scoped>\n",
       "    .dataframe tbody tr th:only-of-type {\n",
       "        vertical-align: middle;\n",
       "    }\n",
       "\n",
       "    .dataframe tbody tr th {\n",
       "        vertical-align: top;\n",
       "    }\n",
       "\n",
       "    .dataframe thead th {\n",
       "        text-align: right;\n",
       "    }\n",
       "</style>\n",
       "<table border=\"1\" class=\"dataframe\">\n",
       "  <thead>\n",
       "    <tr style=\"text-align: right;\">\n",
       "      <th></th>\n",
       "      <th>Date</th>\n",
       "      <th>Op</th>\n",
       "      <th>l_m</th>\n",
       "    </tr>\n",
       "  </thead>\n",
       "  <tbody>\n",
       "    <tr>\n",
       "      <th>0</th>\n",
       "      <td>2020-01-22</td>\n",
       "      <td>0</td>\n",
       "      <td>0.000000</td>\n",
       "    </tr>\n",
       "    <tr>\n",
       "      <th>1</th>\n",
       "      <td>2020-01-23</td>\n",
       "      <td>0</td>\n",
       "      <td>0.000000</td>\n",
       "    </tr>\n",
       "    <tr>\n",
       "      <th>2</th>\n",
       "      <td>2020-01-24</td>\n",
       "      <td>0</td>\n",
       "      <td>0.000000</td>\n",
       "    </tr>\n",
       "    <tr>\n",
       "      <th>3</th>\n",
       "      <td>2020-01-25</td>\n",
       "      <td>0</td>\n",
       "      <td>0.000000</td>\n",
       "    </tr>\n",
       "    <tr>\n",
       "      <th>4</th>\n",
       "      <td>2020-01-26</td>\n",
       "      <td>0</td>\n",
       "      <td>0.000000</td>\n",
       "    </tr>\n",
       "    <tr>\n",
       "      <th>...</th>\n",
       "      <td>...</td>\n",
       "      <td>...</td>\n",
       "      <td>...</td>\n",
       "    </tr>\n",
       "    <tr>\n",
       "      <th>275</th>\n",
       "      <td>2020-10-23</td>\n",
       "      <td>7830743</td>\n",
       "      <td>1.015294</td>\n",
       "    </tr>\n",
       "    <tr>\n",
       "      <th>276</th>\n",
       "      <td>2020-10-24</td>\n",
       "      <td>7949277</td>\n",
       "      <td>1.015137</td>\n",
       "    </tr>\n",
       "    <tr>\n",
       "      <th>277</th>\n",
       "      <td>2020-10-25</td>\n",
       "      <td>8068291</td>\n",
       "      <td>1.014972</td>\n",
       "    </tr>\n",
       "    <tr>\n",
       "      <th>278</th>\n",
       "      <td>2020-10-26</td>\n",
       "      <td>8187793</td>\n",
       "      <td>1.014811</td>\n",
       "    </tr>\n",
       "    <tr>\n",
       "      <th>279</th>\n",
       "      <td>2020-10-27</td>\n",
       "      <td>8307803</td>\n",
       "      <td>1.014657</td>\n",
       "    </tr>\n",
       "  </tbody>\n",
       "</table>\n",
       "<p>280 rows × 3 columns</p>\n",
       "</div>"
      ],
      "text/plain": [
       "          Date       Op       l_m\n",
       "0   2020-01-22        0  0.000000\n",
       "1   2020-01-23        0  0.000000\n",
       "2   2020-01-24        0  0.000000\n",
       "3   2020-01-25        0  0.000000\n",
       "4   2020-01-26        0  0.000000\n",
       "..         ...      ...       ...\n",
       "275 2020-10-23  7830743  1.015294\n",
       "276 2020-10-24  7949277  1.015137\n",
       "277 2020-10-25  8068291  1.014972\n",
       "278 2020-10-26  8187793  1.014811\n",
       "279 2020-10-27  8307803  1.014657\n",
       "\n",
       "[280 rows x 3 columns]"
      ]
     },
     "execution_count": 26,
     "metadata": {},
     "output_type": "execute_result"
    }
   ],
   "source": [
    "# missing value replace\n",
    "df.replace(np.nan, 0)"
   ]
  },
  {
   "cell_type": "code",
   "execution_count": 27,
   "metadata": {},
   "outputs": [
    {
     "data": {
      "image/png": "[encoded data removed]",
      "text/plain": [
       "<Figure size 1440x720 with 1 Axes>"
      ]
     },
     "metadata": {
      "needs_background": "light"
     },
     "output_type": "display_data"
    }
   ],
   "source": [
    "# Create figure and plot space\n",
    "fig, ax = plt.subplots(figsize=(20, 10))\n",
    "\n",
    "# Add x-axis and y-axis\n",
    "ax.scatter(df.Date,df.l_m,color='purple')\n",
    "\n",
    "# Set title and labels for axes\n",
    "ax.set(xlabel=\"Date\",\n",
    "       ylabel=\"Precipitation (inches)\",\n",
    "       title=\"Daily Total Precipitation\\nBoulder, Colorado in July 2018\")\n",
    "\n",
    "plt.show()"
   ]
  },
  {
   "cell_type": "code",
   "execution_count": 28,
   "metadata": {},
   "outputs": [
    {
     "data": {
      "image/png": "[encoded data removed]",
      "text/plain": [
       "<Figure size 1440x720 with 1 Axes>"
      ]
     },
     "metadata": {},
     "output_type": "display_data"
    }
   ],
   "source": [
    "#line plo\n",
    "sns.set(font_scale=1)\n",
    "df.set_index('Date')['l_m'].plot(figsize=(20, 10), linewidth=1, color='red')\n",
    "plt.xlabel(\"Date\", labelpad=10)\n",
    "plt.ylabel(\"Daily cases\", labelpad=10)\n",
    "plt.legend()\n",
    "plt.title(\"Death cases for covid cases\", y=1.02, fontsize=15);\n"
   ]
  },
  {
   "cell_type": "markdown",
   "metadata": {},
   "source": [
    "## Levitt’s Metric on Indian Data"
   ]
  },
  {
   "cell_type": "markdown",
   "metadata": {},
   "source": [
    "###### Funtction for dataset visualization"
   ]
  },
  {
   "cell_type": "markdown",
   "metadata": {},
   "source": [
    "- For recent deaths = 100 dates"
   ]
  },
  {
   "cell_type": "code",
   "execution_count": 29,
   "metadata": {},
   "outputs": [],
   "source": [
    "# Funtction \n",
    "def plot_dataset(column_name):\n",
    "    \"\"\"\n",
    "    Cleaning, conversion, plotting of data\n",
    "    \"\"\"\n",
    "    # Cumulative dataset creation\n",
    "    result = []\n",
    "    for i in range(len(deaths)+1):\n",
    "        if i == (len(deaths)+1):\n",
    "            r = deaths[column_name][:]\n",
    "        else:\n",
    "            r = deaths[column_name][:i].tolist()\n",
    "        r = sum(r)\n",
    "        result.append(r)\n",
    "\n",
    "    #create dataframe from list\n",
    "    df = pd.DataFrame(deaths['Date'])\n",
    "\n",
    "    #Final Cumulative list [first element is invalid]\n",
    "    increment_result = result[1:]\n",
    "    \n",
    "    #Add target(conversion factor into dataframe)\n",
    "    df[\"Result_CF\"] = increment_result\n",
    "    \n",
    "    #Conversion method used\n",
    "    levitts_conversion = []\n",
    "\n",
    "    #Levitt's Matrix conversion list\n",
    "    for i in range(len(df)):\n",
    "        if i == 0:\n",
    "            current_epi = 1\n",
    "        else:\n",
    "            current_epi = (df.Result_CF[i] / df.Result_CF[i-1])\n",
    "\n",
    "        levitts_conversion.append(current_epi)\n",
    "    \n",
    "    #Add Levitt's Matrix conversion list into dataframe)\n",
    "    df[\"levitts_conversion\"] = levitts_conversion\n",
    "    \n",
    "    # missing value replace\n",
    "    df.replace(np.nan, 0)\n",
    "\n",
    "    #Plotting \n",
    "    plt.figure(figsize=(20,10))\n",
    "    #plt.title(levitts_conversion, y=1.02, fontsize=15);\n",
    "    \n",
    "    plt.scatter(df['Date'][150:], df['levitts_conversion'][150:])\n",
    "    plt.xlabel(\"Date\", labelpad=10)\n",
    "        \n",
    "    plt.ylabel(\"Daily cases (Metric)\", labelpad=10)#\n",
    "\n",
    "    # these variable size can be upto [ : 263] \n",
    "    # tried to see visual's upto 150 points.\n",
    "    "
   ]
  },
  {
   "cell_type": "code",
   "execution_count": 30,
   "metadata": {},
   "outputs": [
    {
     "data": {
      "image/png": "[encoded data removed]",
      "text/plain": [
       "<Figure size 1440x720 with 1 Axes>"
      ]
     },
     "metadata": {},
     "output_type": "display_data"
    }
   ],
   "source": [
    "plot_dataset(\"Zimbabwe\") "
   ]
  },
  {
   "cell_type": "code",
   "execution_count": 31,
   "metadata": {},
   "outputs": [
    {
     "data": {
      "image/png": "[encoded data removed]",
      "text/plain": [
       "<Figure size 1440x720 with 1 Axes>"
      ]
     },
     "metadata": {},
     "output_type": "display_data"
    }
   ],
   "source": [
    "plot_dataset(\"US\")"
   ]
  },
  {
   "cell_type": "code",
   "execution_count": 32,
   "metadata": {},
   "outputs": [
    {
     "data": {
      "image/png": "[encoded data removed]",
      "text/plain": [
       "<Figure size 1440x720 with 1 Axes>"
      ]
     },
     "metadata": {},
     "output_type": "display_data"
    }
   ],
   "source": [
    "plot_dataset(\"India\")"
   ]
  },
  {
   "cell_type": "markdown",
   "metadata": {},
   "source": [
    "## Varify lavitt's matrix"
   ]
  },
  {
   "cell_type": "markdown",
   "metadata": {},
   "source": [
    "<img src=\"https://images.indianexpress.com/2020/08/onam-animation.jpg\" alt=\"drawing\" style=\"width:800px;\"/>"
   ]
  },
  {
   "cell_type": "markdown",
   "metadata": {},
   "source": [
    "- For Plotting Linear Line shows data variation"
   ]
  },
  {
   "cell_type": "code",
   "execution_count": 33,
   "metadata": {},
   "outputs": [],
   "source": [
    "# to get x axis into days\n",
    "days = []\n",
    "for i in range(1,len(df.Date)+1,1): \n",
    "    days.append(i)"
   ]
  },
  {
   "cell_type": "code",
   "execution_count": 34,
   "metadata": {},
   "outputs": [],
   "source": [
    "df['Days'] = days"
   ]
  },
  {
   "cell_type": "code",
   "execution_count": 35,
   "metadata": {},
   "outputs": [
    {
     "data": {
      "text/html": [
       "<div>\n",
       "<style scoped>\n",
       "    .dataframe tbody tr th:only-of-type {\n",
       "        vertical-align: middle;\n",
       "    }\n",
       "\n",
       "    .dataframe tbody tr th {\n",
       "        vertical-align: top;\n",
       "    }\n",
       "\n",
       "    .dataframe thead th {\n",
       "        text-align: right;\n",
       "    }\n",
       "</style>\n",
       "<table border=\"1\" class=\"dataframe\">\n",
       "  <thead>\n",
       "    <tr style=\"text-align: right;\">\n",
       "      <th></th>\n",
       "      <th>Date</th>\n",
       "      <th>Op</th>\n",
       "      <th>l_m</th>\n",
       "      <th>Days</th>\n",
       "    </tr>\n",
       "  </thead>\n",
       "  <tbody>\n",
       "    <tr>\n",
       "      <th>0</th>\n",
       "      <td>2020-01-22</td>\n",
       "      <td>0</td>\n",
       "      <td>0.0</td>\n",
       "      <td>1</td>\n",
       "    </tr>\n",
       "    <tr>\n",
       "      <th>1</th>\n",
       "      <td>2020-01-23</td>\n",
       "      <td>0</td>\n",
       "      <td>NaN</td>\n",
       "      <td>2</td>\n",
       "    </tr>\n",
       "  </tbody>\n",
       "</table>\n",
       "</div>"
      ],
      "text/plain": [
       "        Date  Op  l_m  Days\n",
       "0 2020-01-22   0  0.0     1\n",
       "1 2020-01-23   0  NaN     2"
      ]
     },
     "execution_count": 35,
     "metadata": {},
     "output_type": "execute_result"
    }
   ],
   "source": [
    "df.head(2)"
   ]
  },
  {
   "cell_type": "code",
   "execution_count": 36,
   "metadata": {},
   "outputs": [],
   "source": [
    "x =df.Days[150:]\n",
    "y =df.l_m[150:]"
   ]
  },
  {
   "cell_type": "code",
   "execution_count": 37,
   "metadata": {},
   "outputs": [],
   "source": [
    "def plotting(xd, yd, order=1, c='r', alpha=1, Rval=False):\n",
    "    \"\"\"Make a line of best fit\"\"\"\n",
    "\n",
    "    #Calculate trendline\n",
    "    coeffs = np.polyfit(xd, yd, order)\n",
    "\n",
    "    intercept = coeffs[-1]\n",
    "    slope = coeffs[-2]\n",
    "    power = coeffs[0] if order == 2 else 0\n",
    "\n",
    "    minxd = np.min(xd)\n",
    "    maxxd = np.max(xd)\n",
    "\n",
    "    xl = np.array([minxd, maxxd])\n",
    "    yl = power * xl ** 2 + slope * xl + intercept\n",
    "    #print(xl)\n",
    "    #print(yl)\n",
    "    fig, ax = plt.subplots(figsize=(20, 10))\n",
    "\n",
    "    #Plot trendline\n",
    "    plt.plot(xl, yl, c, alpha=alpha)\n",
    "\n",
    "    #Calculate R Squared\n",
    "    p = np.poly1d(coeffs)\n",
    "\n",
    "    ybar = np.sum(yd) / len(yd)\n",
    "    ssreg = np.sum((p(xd) - ybar) ** 2)\n",
    "    sstot = np.sum((yd - ybar) ** 2)\n",
    "    Rsqr = ssreg / sstot\n",
    "\n",
    "    if not Rval:\n",
    "        plt.text(0.8 * maxxd + 0.2 * minxd, 0.8 * np.max(yd) + 0.2 * np.min(yd),'$R^2 = %0.2f$' % Rsqr)\n",
    "        plt.plot(x, y, 'o')\n",
    "        \n",
    "    else:\n",
    "        return Rsqr\n"
   ]
  },
  {
   "cell_type": "code",
   "execution_count": 38,
   "metadata": {},
   "outputs": [
    {
     "data": {
      "image/png": "[encoded data removed]",
      "text/plain": [
       "<Figure size 1440x720 with 1 Axes>"
      ]
     },
     "metadata": {},
     "output_type": "display_data"
    }
   ],
   "source": [
    "plotting(x, y)"
   ]
  },
  {
   "cell_type": "markdown",
   "metadata": {},
   "source": [
    "# Conclusion :\n",
    "    * H(t) is 1.001 that means pandamic is over as per lavitt's matrix statement. \n",
    "    * Matrix Stated: H(t) will reach at 1.001 when x(Days) will be around 185 days but even after 280 days it did not reach there.\n",
    "    * to reach H(t) at 1.001 approx 380 days will be required as per above graph. \n",
    "    * New value for H(t) will reach at 1.001 definately twice the given value(Levitt’s Metric).\n",
    "    * Due several outlier's such as lockdown open and other's Levitt’s Metric results show's huge variations.\n",
    "    * It was observed that H(t) falls linearly with x(Days) But doesnot follow tight linearity.\n",
    "    * Evan r^2 show's huge variation as for livitt matrix it was around 0.0896 and in this observation it is around 0.94."
   ]
  },
  {
   "cell_type": "markdown",
   "metadata": {},
   "source": [
    "###### Deaths graph is linear descresing as it is following levitt matrix but irrespecitive of it's varibles those leads to change in linear nature so it is decreasing but in slow manner.  Which will lead to addtional days to recover into normal suatation."
   ]
  },
  {
   "cell_type": "markdown",
   "metadata": {},
   "source": [
    "# About"
   ]
  },
  {
   "cell_type": "markdown",
   "metadata": {},
   "source": [
    "Levitt, who won the 2013 Nobel Prize in chemistry, earlier predicted about the epidemic in China that\n",
    "it would get through the worst of its devastating outbreak before several other health experts predicted."
   ]
  },
  {
   "cell_type": "markdown",
   "metadata": {},
   "source": [
    "###### https://blog.exxactcorp.com/fighting-coronavirus-covid-19-with-data-science-crowdsourcing-3-projects-you-should-know-about/\n",
    "Guidelines for Coronavirus Prevention & Treatment (CDC)\n",
    "This is from the CDC, if you’re outside the United States, check with your local or regional governments for additional guidance. There is currently no vaccine to prevent coronavirus disease 2019 (COVID-19). The best way to prevent illness is to avoid being exposed to this virus. However, as a reminder, CDC always recommends everyday preventive actions to help prevent the spread of respiratory diseases, including:\n",
    "\n",
    "-   Avoid close contact with people who are sick.\n",
    "-   Avoid touching your eyes, nose, and mouth.\n",
    "-   Stay home when you are sick.\n",
    "-   Cover your cough or sneeze with a tissue, then throw the tissue in the trash.\n",
    "-   Clean and disinfect frequently touched objects and surfaces using a regular household cleaning spray or wipe.\n",
    "-   Follow CDC’s recommendations for using a facemask.\n",
    "-   CDC does not recommend that people who are well wear a facemask to protect themselves from respiratory diseases, including COVID-19.\n",
    "-   Facemasks should be used by people who show symptoms of COVID-19 to help prevent the spread of the disease to  others. The use of facemasks is also crucial for health workers and people who are taking care of someone in close settings (at home or in a health care facility).\n",
    "-   Wash your hands often with soap and water for at least 20 seconds, especially after going to the bathroom; before eating; and after blowing your nose, coughing, or sneezing.\n",
    "-   If soap and water are not readily available, use an alcohol-based hand sanitizer with at least 60% alcohol. Always wash hands with soap and water if hands are visibly dirty.\n"
   ]
  },
  {
   "cell_type": "markdown",
   "metadata": {},
   "source": [
    "![title](https://images.newindianexpress.com/uploads/user/imagelibrary/2020/8/13/w900X450/Murals___.jpg)"
   ]
  }
 ],
 "metadata": {
  "kernelspec": {
   "display_name": "Python 3",
   "language": "python",
   "name": "python3"
  },
  "language_info": {
   "codemirror_mode": {
    "name": "ipython",
    "version": 3
   },
   "file_extension": ".py",
   "mimetype": "text/x-python",
   "name": "python",
   "nbconvert_exporter": "python",
   "pygments_lexer": "ipython3",
   "version": "3.6.9"
  }
 },
 "nbformat": 4,
 "nbformat_minor": 4
}
